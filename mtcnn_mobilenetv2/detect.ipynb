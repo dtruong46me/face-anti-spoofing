{
 "cells": [
  {
   "cell_type": "code",
   "id": "initial_id",
   "metadata": {
    "collapsed": true,
    "ExecuteTime": {
     "end_time": "2024-04-20T09:42:05.003483Z",
     "start_time": "2024-04-20T09:41:59.866210Z"
    }
   },
   "source": [
    "import os\n",
    "from facenet_pytorch import MTCNN, InceptionResnetV1\n",
    "from PIL import Image"
   ],
   "outputs": [],
   "execution_count": 1
  },
  {
   "metadata": {
    "ExecuteTime": {
     "end_time": "2024-04-20T09:48:41.164629Z",
     "start_time": "2024-04-20T09:48:41.136708Z"
    }
   },
   "cell_type": "code",
   "source": [
    "mtcnn = MTCNN(image_size=336)\n",
    "\n",
    "dataset_folder_real = 'D:/Download/fas_face_dataset/real/'\n",
    "output_folder = 'C:/Users/VU TUAN MINH/FAS-lightweight/mtcnn_mobilenetv2/img_detect/real/'\n",
    "os.makedirs(output_folder, exist_ok=True)"
   ],
   "id": "9035ed415b63d6bd",
   "outputs": [],
   "execution_count": 12
  },
  {
   "metadata": {
    "ExecuteTime": {
     "end_time": "2024-04-20T09:55:07.440200Z",
     "start_time": "2024-04-20T09:54:36.645902Z"
    }
   },
   "cell_type": "code",
   "source": [
    "for filename in os.listdir(dataset_folder_real):\n",
    "    if filename.endswith('.jpg'):\n",
    "        # Load image\n",
    "        img_path = os.path.join(dataset_folder_real, filename)\n",
    "        img = Image.open(img_path)\n",
    "        filename = os.path.splitext(filename)[0]\n",
    "        # Perform face detection and cropping\n",
    "        faces = mtcnn(img, save_path=os.path.join(output_folder, f'{filename}_detect.jpg'))\n",
    "        "
   ],
   "id": "87c56b6d413c1f9f",
   "outputs": [],
   "execution_count": 14
  },
  {
   "metadata": {
    "ExecuteTime": {
     "end_time": "2024-04-20T09:56:34.182272Z",
     "start_time": "2024-04-20T09:56:34.155686Z"
    }
   },
   "cell_type": "code",
   "source": [
    "mtcnn = MTCNN(image_size=336)\n",
    "\n",
    "dataset_folder_fake = 'D:/Download/fas_face_dataset/fake'\n",
    "output_folder = 'C:/Users/VU TUAN MINH/FAS-lightweight/mtcnn_mobilenetv2/img_detect/fake/'\n",
    "os.makedirs(output_folder, exist_ok=True)"
   ],
   "id": "bf61475a33bbd796",
   "outputs": [],
   "execution_count": 15
  },
  {
   "metadata": {
    "ExecuteTime": {
     "end_time": "2024-04-20T10:02:50.646255Z",
     "start_time": "2024-04-20T09:56:35.190088Z"
    }
   },
   "cell_type": "code",
   "source": [
    "for filename in os.listdir(dataset_folder_fake):\n",
    "    if filename.endswith('.jpg'):\n",
    "        # Load image\n",
    "        img_path = os.path.join(dataset_folder_fake, filename)\n",
    "        img = Image.open(img_path)\n",
    "        filename = os.path.splitext(filename)[0]\n",
    "        # Perform face detection and cropping\n",
    "        faces = mtcnn(img, save_path=os.path.join(output_folder, f'{filename}_detect.jpg'))\n",
    "        "
   ],
   "id": "5ff06e9b5d905f91",
   "outputs": [],
   "execution_count": 16
  },
  {
   "metadata": {},
   "cell_type": "code",
   "outputs": [],
   "execution_count": null,
   "source": "",
   "id": "16ea43537a7524bf"
  }
 ],
 "metadata": {
  "kernelspec": {
   "display_name": "Python 3",
   "language": "python",
   "name": "python3"
  },
  "language_info": {
   "codemirror_mode": {
    "name": "ipython",
    "version": 2
   },
   "file_extension": ".py",
   "mimetype": "text/x-python",
   "name": "python",
   "nbconvert_exporter": "python",
   "pygments_lexer": "ipython2",
   "version": "2.7.6"
  }
 },
 "nbformat": 4,
 "nbformat_minor": 5
}
