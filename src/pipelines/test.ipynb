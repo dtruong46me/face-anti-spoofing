{
 "cells": [
  {
   "cell_type": "code",
   "execution_count": 1,
   "metadata": {},
   "outputs": [],
   "source": [
    "import torch"
   ]
  },
  {
   "cell_type": "code",
   "execution_count": 3,
   "metadata": {},
   "outputs": [
    {
     "data": {
      "text/plain": [
       "tensor([[[0.8402, 0.5980],\n",
       "         [0.0217, 0.7865],\n",
       "         [0.2058, 0.8410],\n",
       "         [0.9401, 0.7979],\n",
       "         [0.5374, 0.2636],\n",
       "         [0.7715, 0.6219],\n",
       "         [0.4911, 0.3343],\n",
       "         [0.2215, 0.5045],\n",
       "         [0.8740, 0.0232],\n",
       "         [0.6569, 0.0648],\n",
       "         [0.5262, 0.2686],\n",
       "         [0.5643, 0.3097],\n",
       "         [0.6787, 0.8740],\n",
       "         [0.0667, 0.6212],\n",
       "         [0.4687, 0.2307],\n",
       "         [0.1225, 0.4391],\n",
       "         [0.8562, 0.0997],\n",
       "         [0.0071, 0.5206],\n",
       "         [0.6754, 0.7769],\n",
       "         [0.0463, 0.1940],\n",
       "         [0.2966, 0.2101],\n",
       "         [0.4895, 0.1370],\n",
       "         [0.9771, 0.1045],\n",
       "         [0.5657, 0.0331],\n",
       "         [0.8216, 0.8241],\n",
       "         [0.8987, 0.3105],\n",
       "         [0.6638, 0.9852],\n",
       "         [0.1869, 0.0019],\n",
       "         [0.1434, 0.6041],\n",
       "         [0.8836, 0.1897],\n",
       "         [0.2798, 0.1045],\n",
       "         [0.7715, 0.4802],\n",
       "         [0.9680, 0.0380],\n",
       "         [0.9215, 0.2293],\n",
       "         [0.5599, 0.6537],\n",
       "         [0.5373, 0.3195],\n",
       "         [0.2859, 0.9135],\n",
       "         [0.3291, 0.9270],\n",
       "         [0.7409, 0.2752],\n",
       "         [0.0287, 0.6982],\n",
       "         [0.6125, 0.1621],\n",
       "         [0.1900, 0.9381],\n",
       "         [0.6517, 0.0854],\n",
       "         [0.6442, 0.3370],\n",
       "         [0.8032, 0.6076],\n",
       "         [0.6202, 0.3505],\n",
       "         [0.2695, 0.3349],\n",
       "         [0.9210, 0.9499],\n",
       "         [0.1150, 0.2278],\n",
       "         [0.8012, 0.6651],\n",
       "         [0.3322, 0.5070],\n",
       "         [0.4726, 0.6875],\n",
       "         [0.5852, 0.8889],\n",
       "         [0.8624, 0.8992],\n",
       "         [0.6707, 0.4132],\n",
       "         [0.9897, 0.4325],\n",
       "         [0.2977, 0.7420],\n",
       "         [0.0503, 0.1951],\n",
       "         [0.6150, 0.2004],\n",
       "         [0.1476, 0.4266],\n",
       "         [0.4121, 0.8985],\n",
       "         [0.5712, 0.4137],\n",
       "         [0.3664, 0.8872],\n",
       "         [0.1681, 0.6140]]])"
      ]
     },
     "execution_count": 3,
     "metadata": {},
     "output_type": "execute_result"
    }
   ],
   "source": [
    "a = torch.rand([1,64,2])\n",
    "a"
   ]
  },
  {
   "cell_type": "code",
   "execution_count": 5,
   "metadata": {},
   "outputs": [
    {
     "data": {
      "text/plain": [
       "torch.Size([64, 2])"
      ]
     },
     "execution_count": 5,
     "metadata": {},
     "output_type": "execute_result"
    }
   ],
   "source": [
    "b = a.squeeze(0)\n",
    "b.shape"
   ]
  },
  {
   "cell_type": "code",
   "execution_count": 6,
   "metadata": {},
   "outputs": [],
   "source": [
    "from torchmetrics import Accuracy, Recall, Precision, F1Score"
   ]
  },
  {
   "cell_type": "code",
   "execution_count": 65,
   "metadata": {},
   "outputs": [
    {
     "name": "stdout",
     "output_type": "stream",
     "text": [
      "tensor([[1, 0],\n",
      "        [0, 1],\n",
      "        [1, 0],\n",
      "        [1, 0],\n",
      "        [0, 1],\n",
      "        [0, 1],\n",
      "        [0, 1],\n",
      "        [0, 1]]) torch.Size([8, 2])\n",
      "tensor([[0, 1],\n",
      "        [0, 1],\n",
      "        [0, 1],\n",
      "        [1, 0],\n",
      "        [1, 0],\n",
      "        [0, 1],\n",
      "        [1, 0],\n",
      "        [1, 0]]) torch.Size([8, 2])\n",
      "tensor([[0.4788, 0.7815],\n",
      "        [0.7322, 0.7735],\n",
      "        [0.7185, 0.5356],\n",
      "        [0.6098, 0.1330],\n",
      "        [0.6598, 0.4089],\n",
      "        [0.1706, 0.2688],\n",
      "        [0.1550, 0.6084],\n",
      "        [0.1711, 0.5311]]) torch.Size([8, 2])\n"
     ]
    }
   ],
   "source": [
    "a = torch.tensor([\n",
    "    [1,0],\n",
    "    [0,1],\n",
    "    [1,0],\n",
    "    [1,0],\n",
    "    [0,1],\n",
    "    [0,1],\n",
    "    [0,1],\n",
    "    [0,1]\n",
    "])\n",
    "\n",
    "b = torch.tensor([\n",
    "    [0,1],\n",
    "    [0,1],\n",
    "    [0,1],\n",
    "    [1,0],\n",
    "    [1,0],\n",
    "    [0,1],\n",
    "    [1,0],\n",
    "    [1,0]\n",
    "])\n",
    "\n",
    "c = torch.rand([8,2])\n",
    "\n",
    "print(a, a.shape)\n",
    "print(b, b.shape)\n",
    "print(c, c.shape)"
   ]
  },
  {
   "cell_type": "code",
   "execution_count": 66,
   "metadata": {},
   "outputs": [],
   "source": [
    "a = a.argmax(dim=1)\n",
    "b = b.argmax(dim=1)"
   ]
  },
  {
   "cell_type": "code",
   "execution_count": 67,
   "metadata": {},
   "outputs": [
    {
     "data": {
      "text/plain": [
       "tensor([0, 1, 0, 0, 1, 1, 1, 1])"
      ]
     },
     "execution_count": 67,
     "metadata": {},
     "output_type": "execute_result"
    }
   ],
   "source": [
    "a"
   ]
  },
  {
   "cell_type": "code",
   "execution_count": 68,
   "metadata": {},
   "outputs": [
    {
     "data": {
      "text/plain": [
       "tensor([1, 1, 1, 0, 0, 1, 0, 0])"
      ]
     },
     "execution_count": 68,
     "metadata": {},
     "output_type": "execute_result"
    }
   ],
   "source": [
    "b"
   ]
  },
  {
   "cell_type": "code",
   "execution_count": 69,
   "metadata": {},
   "outputs": [
    {
     "data": {
      "text/plain": [
       "tensor(0.3750)"
      ]
     },
     "execution_count": 69,
     "metadata": {},
     "output_type": "execute_result"
    }
   ],
   "source": [
    "acc = Accuracy(\"binary\", num_classes=2)\n",
    "acc(a,b)"
   ]
  },
  {
   "cell_type": "code",
   "execution_count": 71,
   "metadata": {},
   "outputs": [
    {
     "data": {
      "text/plain": [
       "tensor(0.5000)"
      ]
     },
     "execution_count": 71,
     "metadata": {},
     "output_type": "execute_result"
    }
   ],
   "source": [
    "rec = Recall(\"binary\", num_classes=2)\n",
    "rec(a,b)"
   ]
  },
  {
   "cell_type": "code",
   "execution_count": 72,
   "metadata": {},
   "outputs": [
    {
     "data": {
      "text/plain": [
       "tensor([[0.4788, 0.7815],\n",
       "        [0.7322, 0.7735],\n",
       "        [0.7185, 0.5356],\n",
       "        [0.6098, 0.1330],\n",
       "        [0.6598, 0.4089],\n",
       "        [0.1706, 0.2688],\n",
       "        [0.1550, 0.6084],\n",
       "        [0.1711, 0.5311]])"
      ]
     },
     "execution_count": 72,
     "metadata": {},
     "output_type": "execute_result"
    }
   ],
   "source": [
    "c"
   ]
  },
  {
   "cell_type": "code",
   "execution_count": 73,
   "metadata": {},
   "outputs": [
    {
     "name": "stdout",
     "output_type": "stream",
     "text": [
      "tensor([1, 1, 0, 0, 0, 1, 1, 1]) torch.Size([8])\n"
     ]
    }
   ],
   "source": [
    "c = c.argmax(dim=1)\n",
    "print(c, c.shape)"
   ]
  },
  {
   "cell_type": "code",
   "execution_count": null,
   "metadata": {},
   "outputs": [],
   "source": []
  }
 ],
 "metadata": {
  "kernelspec": {
   "display_name": "Python 3",
   "language": "python",
   "name": "python3"
  },
  "language_info": {
   "codemirror_mode": {
    "name": "ipython",
    "version": 3
   },
   "file_extension": ".py",
   "mimetype": "text/x-python",
   "name": "python",
   "nbconvert_exporter": "python",
   "pygments_lexer": "ipython3",
   "version": "3.10.3"
  }
 },
 "nbformat": 4,
 "nbformat_minor": 2
}
