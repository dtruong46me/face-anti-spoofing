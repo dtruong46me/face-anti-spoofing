{
 "cells": [
  {
   "cell_type": "code",
   "execution_count": 78,
   "metadata": {},
   "outputs": [],
   "source": [
    "import torch"
   ]
  },
  {
   "cell_type": "code",
   "execution_count": 79,
   "metadata": {},
   "outputs": [],
   "source": [
    "import torch.nn as nn"
   ]
  },
  {
   "cell_type": "code",
   "execution_count": 74,
   "metadata": {},
   "outputs": [
    {
     "data": {
      "text/plain": [
       "tensor([[[0.6911, 0.9285],\n",
       "         [0.9375, 0.5309],\n",
       "         [0.8463, 0.2166],\n",
       "         [0.9129, 0.3035],\n",
       "         [0.1324, 0.1006],\n",
       "         [0.7755, 0.1051],\n",
       "         [0.1160, 0.7424],\n",
       "         [0.0070, 0.6471]]])"
      ]
     },
     "execution_count": 74,
     "metadata": {},
     "output_type": "execute_result"
    }
   ],
   "source": [
    "a = torch.rand([1,8,2])\n",
    "a"
   ]
  },
  {
   "cell_type": "code",
   "execution_count": 75,
   "metadata": {},
   "outputs": [
    {
     "data": {
      "text/plain": [
       "torch.Size([8, 2])"
      ]
     },
     "execution_count": 75,
     "metadata": {},
     "output_type": "execute_result"
    }
   ],
   "source": [
    "b = a.squeeze(0)\n",
    "b.shape"
   ]
  },
  {
   "cell_type": "code",
   "execution_count": 76,
   "metadata": {},
   "outputs": [
    {
     "data": {
      "text/plain": [
       "tensor([[0.6911, 0.9285],\n",
       "        [0.9375, 0.5309],\n",
       "        [0.8463, 0.2166],\n",
       "        [0.9129, 0.3035],\n",
       "        [0.1324, 0.1006],\n",
       "        [0.7755, 0.1051],\n",
       "        [0.1160, 0.7424],\n",
       "        [0.0070, 0.6471]])"
      ]
     },
     "execution_count": 76,
     "metadata": {},
     "output_type": "execute_result"
    }
   ],
   "source": [
    "b"
   ]
  },
  {
   "cell_type": "code",
   "execution_count": 77,
   "metadata": {},
   "outputs": [
    {
     "data": {
      "text/plain": [
       "tensor([1, 0, 0, 0, 0, 0, 1, 1])"
      ]
     },
     "execution_count": 77,
     "metadata": {},
     "output_type": "execute_result"
    }
   ],
   "source": [
    "c = torch.argmax(b, dim=1)\n",
    "c"
   ]
  },
  {
   "cell_type": "code",
   "execution_count": 80,
   "metadata": {},
   "outputs": [
    {
     "data": {
      "text/plain": [
       "tensor([[0.4409, 0.5591],\n",
       "        [0.6003, 0.3997],\n",
       "        [0.6524, 0.3476],\n",
       "        [0.6478, 0.3522],\n",
       "        [0.5079, 0.4921],\n",
       "        [0.6616, 0.3384],\n",
       "        [0.3483, 0.6517],\n",
       "        [0.3452, 0.6548]])"
      ]
     },
     "execution_count": 80,
     "metadata": {},
     "output_type": "execute_result"
    }
   ],
   "source": [
    "d = nn.Softmax(dim=1)(b)\n",
    "d"
   ]
  },
  {
   "cell_type": "code",
   "execution_count": 81,
   "metadata": {},
   "outputs": [
    {
     "data": {
      "text/plain": [
       "tensor([1, 0, 0, 0, 0, 0, 1, 1])"
      ]
     },
     "execution_count": 81,
     "metadata": {},
     "output_type": "execute_result"
    }
   ],
   "source": [
    "predicted_classes = d.argmax(dim=1)\n",
    "predicted_classes"
   ]
  },
  {
   "cell_type": "code",
   "execution_count": 6,
   "metadata": {},
   "outputs": [],
   "source": [
    "from torchmetrics import Accuracy, Recall, Precision, F1Score"
   ]
  },
  {
   "cell_type": "code",
   "execution_count": 65,
   "metadata": {},
   "outputs": [
    {
     "name": "stdout",
     "output_type": "stream",
     "text": [
      "tensor([[1, 0],\n",
      "        [0, 1],\n",
      "        [1, 0],\n",
      "        [1, 0],\n",
      "        [0, 1],\n",
      "        [0, 1],\n",
      "        [0, 1],\n",
      "        [0, 1]]) torch.Size([8, 2])\n",
      "tensor([[0, 1],\n",
      "        [0, 1],\n",
      "        [0, 1],\n",
      "        [1, 0],\n",
      "        [1, 0],\n",
      "        [0, 1],\n",
      "        [1, 0],\n",
      "        [1, 0]]) torch.Size([8, 2])\n",
      "tensor([[0.4788, 0.7815],\n",
      "        [0.7322, 0.7735],\n",
      "        [0.7185, 0.5356],\n",
      "        [0.6098, 0.1330],\n",
      "        [0.6598, 0.4089],\n",
      "        [0.1706, 0.2688],\n",
      "        [0.1550, 0.6084],\n",
      "        [0.1711, 0.5311]]) torch.Size([8, 2])\n"
     ]
    }
   ],
   "source": [
    "a = torch.tensor([\n",
    "    [1,0],\n",
    "    [0,1],\n",
    "    [1,0],\n",
    "    [1,0],\n",
    "    [0,1],\n",
    "    [0,1],\n",
    "    [0,1],\n",
    "    [0,1]\n",
    "])\n",
    "\n",
    "b = torch.tensor([\n",
    "    [0,1],\n",
    "    [0,1],\n",
    "    [0,1],\n",
    "    [1,0],\n",
    "    [1,0],\n",
    "    [0,1],\n",
    "    [1,0],\n",
    "    [1,0]\n",
    "])\n",
    "\n",
    "c = torch.rand([8,2])\n",
    "\n",
    "print(a, a.shape)\n",
    "print(b, b.shape)\n",
    "print(c, c.shape)"
   ]
  },
  {
   "cell_type": "code",
   "execution_count": 66,
   "metadata": {},
   "outputs": [],
   "source": [
    "a = a.argmax(dim=1)\n",
    "b = b.argmax(dim=1)"
   ]
  },
  {
   "cell_type": "code",
   "execution_count": 67,
   "metadata": {},
   "outputs": [
    {
     "data": {
      "text/plain": [
       "tensor([0, 1, 0, 0, 1, 1, 1, 1])"
      ]
     },
     "execution_count": 67,
     "metadata": {},
     "output_type": "execute_result"
    }
   ],
   "source": [
    "a"
   ]
  },
  {
   "cell_type": "code",
   "execution_count": 68,
   "metadata": {},
   "outputs": [
    {
     "data": {
      "text/plain": [
       "tensor([1, 1, 1, 0, 0, 1, 0, 0])"
      ]
     },
     "execution_count": 68,
     "metadata": {},
     "output_type": "execute_result"
    }
   ],
   "source": [
    "b"
   ]
  },
  {
   "cell_type": "code",
   "execution_count": 69,
   "metadata": {},
   "outputs": [
    {
     "data": {
      "text/plain": [
       "tensor(0.3750)"
      ]
     },
     "execution_count": 69,
     "metadata": {},
     "output_type": "execute_result"
    }
   ],
   "source": [
    "acc = Accuracy(\"binary\", num_classes=2)\n",
    "acc(a,b)"
   ]
  },
  {
   "cell_type": "code",
   "execution_count": 71,
   "metadata": {},
   "outputs": [
    {
     "data": {
      "text/plain": [
       "tensor(0.5000)"
      ]
     },
     "execution_count": 71,
     "metadata": {},
     "output_type": "execute_result"
    }
   ],
   "source": [
    "rec = Recall(\"binary\", num_classes=2)\n",
    "rec(a,b)"
   ]
  },
  {
   "cell_type": "code",
   "execution_count": 72,
   "metadata": {},
   "outputs": [
    {
     "data": {
      "text/plain": [
       "tensor([[0.4788, 0.7815],\n",
       "        [0.7322, 0.7735],\n",
       "        [0.7185, 0.5356],\n",
       "        [0.6098, 0.1330],\n",
       "        [0.6598, 0.4089],\n",
       "        [0.1706, 0.2688],\n",
       "        [0.1550, 0.6084],\n",
       "        [0.1711, 0.5311]])"
      ]
     },
     "execution_count": 72,
     "metadata": {},
     "output_type": "execute_result"
    }
   ],
   "source": [
    "c"
   ]
  },
  {
   "cell_type": "code",
   "execution_count": 73,
   "metadata": {},
   "outputs": [
    {
     "name": "stdout",
     "output_type": "stream",
     "text": [
      "tensor([1, 1, 0, 0, 0, 1, 1, 1]) torch.Size([8])\n"
     ]
    }
   ],
   "source": [
    "c = c.argmax(dim=1)\n",
    "print(c, c.shape)"
   ]
  },
  {
   "cell_type": "code",
   "execution_count": null,
   "metadata": {},
   "outputs": [],
   "source": []
  }
 ],
 "metadata": {
  "kernelspec": {
   "display_name": "Python 3",
   "language": "python",
   "name": "python3"
  },
  "language_info": {
   "codemirror_mode": {
    "name": "ipython",
    "version": 3
   },
   "file_extension": ".py",
   "mimetype": "text/x-python",
   "name": "python",
   "nbconvert_exporter": "python",
   "pygments_lexer": "ipython3",
   "version": "3.10.3"
  }
 },
 "nbformat": 4,
 "nbformat_minor": 2
}
